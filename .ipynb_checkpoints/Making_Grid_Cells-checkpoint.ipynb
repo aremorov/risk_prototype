{
 "cells": [
  {
   "cell_type": "code",
   "execution_count": 1,
   "id": "29f2121a",
   "metadata": {},
   "outputs": [],
   "source": [
    "import numpy as np"
   ]
  },
  {
   "cell_type": "markdown",
   "id": "2e8599f1",
   "metadata": {},
   "source": [
    "coords: 100x100\n",
    "5 in x direction\n",
    "5 in y direction, so 25 total\n"
   ]
  },
  {
   "cell_type": "code",
   "execution_count": 2,
   "id": "bcb410cc",
   "metadata": {},
   "outputs": [
    {
     "data": {
      "text/plain": [
       "'\\nshape: \"M 0,0 100,0 100,100 0,100 Z\",\\nterritory: \"A1\",\\nfillColor: \"red\",\\nxposition: 20,\\nyposition: 20,\\npopulation: 1,\\nnearby: [\"US\", \"Mexico\"],\\n'"
      ]
     },
     "execution_count": 2,
     "metadata": {},
     "output_type": "execute_result"
    }
   ],
   "source": [
    "#output format: add in troop type\n",
    "\"\"\"\n",
    "shape: \"M 0,0 100,0 100,100 0,100 Z\",\n",
    "territory: \"A1\",\n",
    "fillColor: \"red\",\n",
    "xposition: 20,\n",
    "yposition: 20,\n",
    "troop: \"air\"\n",
    "population: 1,\n",
    "nearby: [\"US\", \"Mexico\"],\n",
    "\"\"\""
   ]
  },
  {
   "cell_type": "code",
   "execution_count": 53,
   "id": "741f8cef",
   "metadata": {},
   "outputs": [
    {
     "data": {
      "text/plain": [
       "3"
      ]
     },
     "execution_count": 53,
     "metadata": {},
     "output_type": "execute_result"
    }
   ],
   "source": [
    "np.random.randint(1,4)"
   ]
  },
  {
   "cell_type": "code",
   "execution_count": 11,
   "id": "fa5e04c3",
   "metadata": {},
   "outputs": [],
   "source": [
    "shape: \"M 100,0 200,0 200,100 100,100 Z\" #shape for tn = 1"
   ]
  },
  {
   "cell_type": "code",
   "execution_count": 7,
   "id": "47777095",
   "metadata": {},
   "outputs": [],
   "source": [
    "territory = 0 #territory number\n",
    "def output(tn):\n",
    "    country_list = [\"A\", \"A\", \"A\"]\n",
    "    color_list = [\"red\", \"blue\", \"green\"]\n",
    "    troops = [\"air\", \"ranged\", \"melee\"]\n",
    "\n",
    "    choice = np.random.randint(0,3) #randomly choose which color\n",
    "\n",
    "    country = country_list[choice] #always A, doesnt matter actually\n",
    "    color = color_list[choice]\n",
    "\n",
    "    xi = tn % 5\n",
    "    yi = tn // 5\n",
    "\n",
    "    #LINE 1\n",
    "    #position of top left coord\n",
    "    xp = xi * 100\n",
    "    yp = yi * 100\n",
    "    shape = \"M \"+str(xp)+\",\"+str(yp)\n",
    "    shape+=\" \"+str(xp+100)+\",\"+str(yp)\n",
    "    shape+=\" \"+str(xp+100)+\",\"+str(yp+100)\n",
    "    shape+=\" \"+str(xp)+\",\"+str(yp+100)+\" Z\"\n",
    "    shape\n",
    "    line1 = \"shape: \" + \"'\" + shape + \"',\\n    \"\n",
    "\n",
    "    #LINE 2\n",
    "    territory = country + str(tn)\n",
    "    line2 = \"territory: \" + \"'\" + territory + \"',\\n    \"\n",
    "\n",
    "    #LINE 3\n",
    "    line3 = \"fillColor: \" + \"'\"+color + \"',\\n    \"\n",
    "\n",
    "    #LINE 4\n",
    "    line4 = \"xposition: \" + str(xp+20) + \",\\n    \"\n",
    "\n",
    "    #LINE 5\n",
    "    line5 = \"yposition: \" + str(yp+20) + \",\\n    \"\n",
    "    \n",
    "    #LINE 6, troop type\n",
    "    troop_type = troops[np.random.randint(0,3)]\n",
    "    line6 = \"troop: '\" + troop_type + \"',\\n    \"\n",
    "    \n",
    "    \n",
    "    #LINE 7\n",
    "    population = np.random.randint(1, 10)\n",
    "    line7 = \"population: \" + str(population) + \",\\n    \"\n",
    "\n",
    "    #LINE 8, tricky...\n",
    "    #nearby: [\"US\", \"Mexico\"],\n",
    "    #corners:\n",
    "    if(tn == 0):\n",
    "        nearby = \"['A1', 'A5'],\"\n",
    "    if(tn == 4):\n",
    "        nearby = \"['A3', 'A9'],\"\n",
    "    if(tn == 20):\n",
    "        nearby = \"['A15', 'A21'],\"\n",
    "    if(tn == 24):\n",
    "        nearby = \"['A19', 'A23'],\"\n",
    "    #edges\n",
    "    if(tn !=0 and tn!= 4 and tn!= 20 and tn!= 24):\n",
    "        if(yi == 0):\n",
    "            nearby = \"['A\" + str(tn-1)+\"', 'A\" + str(tn+1)+\"', 'A\" + str(tn+5)+\"'],\" \n",
    "        if(yi == 4):\n",
    "            nearby = \"['A\" + str(tn-1)+\"', 'A\" + str(tn+1)+\"', 'A\" + str(tn-5)+\"'],\" \n",
    "        if(xi == 0):\n",
    "            nearby = \"['A\" + str(tn-5)+\"', 'A\" + str(tn+5)+\"', 'A\" + str(tn+1)+\"'],\" \n",
    "        if(xi == 4):\n",
    "            nearby = \"['A\" + str(tn-5)+\"', 'A\" + str(tn+5)+\"', 'A\" + str(tn-1)+\"'],\"\n",
    "\n",
    "    if(xi != 0 and xi != 4 and yi != 0 and yi != 4):\n",
    "        nearby = \"['A\" + str(tn-1)+\"', 'A\" + str(tn+1)+\"', 'A\" + str(tn-5)+\"', 'A\" + str(tn+5)+\"'],\\n\" \n",
    "\n",
    "    line8 = \"nearby: \" + nearby\n",
    "    total = \"{\\n\" + (line1 + line2+line3+line4+line5+line6+line7_line8) + \"},\"\n",
    "    print(total)\n",
    "    return None"
   ]
  },
  {
   "cell_type": "code",
   "execution_count": 8,
   "id": "73aac185",
   "metadata": {},
   "outputs": [
    {
     "ename": "NameError",
     "evalue": "name 'line7_line8' is not defined",
     "output_type": "error",
     "traceback": [
      "\u001b[0;31m---------------------------------------------------------------------------\u001b[0m",
      "\u001b[0;31mNameError\u001b[0m                                 Traceback (most recent call last)",
      "Input \u001b[0;32mIn [8]\u001b[0m, in \u001b[0;36m<cell line: 1>\u001b[0;34m()\u001b[0m\n\u001b[1;32m      1\u001b[0m \u001b[38;5;28;01mfor\u001b[39;00m i \u001b[38;5;129;01min\u001b[39;00m \u001b[38;5;28mrange\u001b[39m(\u001b[38;5;241m25\u001b[39m):\n\u001b[0;32m----> 2\u001b[0m     \u001b[43moutput\u001b[49m\u001b[43m(\u001b[49m\u001b[43mi\u001b[49m\u001b[43m)\u001b[49m\n",
      "Input \u001b[0;32mIn [7]\u001b[0m, in \u001b[0;36moutput\u001b[0;34m(tn)\u001b[0m\n\u001b[1;32m     71\u001b[0m     nearby \u001b[38;5;241m=\u001b[39m \u001b[38;5;124m\"\u001b[39m\u001b[38;5;124m[\u001b[39m\u001b[38;5;124m'\u001b[39m\u001b[38;5;124mA\u001b[39m\u001b[38;5;124m\"\u001b[39m \u001b[38;5;241m+\u001b[39m \u001b[38;5;28mstr\u001b[39m(tn\u001b[38;5;241m-\u001b[39m\u001b[38;5;241m1\u001b[39m)\u001b[38;5;241m+\u001b[39m\u001b[38;5;124m\"\u001b[39m\u001b[38;5;124m'\u001b[39m\u001b[38;5;124m, \u001b[39m\u001b[38;5;124m'\u001b[39m\u001b[38;5;124mA\u001b[39m\u001b[38;5;124m\"\u001b[39m \u001b[38;5;241m+\u001b[39m \u001b[38;5;28mstr\u001b[39m(tn\u001b[38;5;241m+\u001b[39m\u001b[38;5;241m1\u001b[39m)\u001b[38;5;241m+\u001b[39m\u001b[38;5;124m\"\u001b[39m\u001b[38;5;124m'\u001b[39m\u001b[38;5;124m, \u001b[39m\u001b[38;5;124m'\u001b[39m\u001b[38;5;124mA\u001b[39m\u001b[38;5;124m\"\u001b[39m \u001b[38;5;241m+\u001b[39m \u001b[38;5;28mstr\u001b[39m(tn\u001b[38;5;241m-\u001b[39m\u001b[38;5;241m5\u001b[39m)\u001b[38;5;241m+\u001b[39m\u001b[38;5;124m\"\u001b[39m\u001b[38;5;124m'\u001b[39m\u001b[38;5;124m, \u001b[39m\u001b[38;5;124m'\u001b[39m\u001b[38;5;124mA\u001b[39m\u001b[38;5;124m\"\u001b[39m \u001b[38;5;241m+\u001b[39m \u001b[38;5;28mstr\u001b[39m(tn\u001b[38;5;241m+\u001b[39m\u001b[38;5;241m5\u001b[39m)\u001b[38;5;241m+\u001b[39m\u001b[38;5;124m\"\u001b[39m\u001b[38;5;124m'\u001b[39m\u001b[38;5;124m],\u001b[39m\u001b[38;5;130;01m\\n\u001b[39;00m\u001b[38;5;124m\"\u001b[39m \n\u001b[1;32m     73\u001b[0m line8 \u001b[38;5;241m=\u001b[39m \u001b[38;5;124m\"\u001b[39m\u001b[38;5;124mnearby: \u001b[39m\u001b[38;5;124m\"\u001b[39m \u001b[38;5;241m+\u001b[39m nearby\n\u001b[0;32m---> 74\u001b[0m total \u001b[38;5;241m=\u001b[39m \u001b[38;5;124m\"\u001b[39m\u001b[38;5;124m{\u001b[39m\u001b[38;5;130;01m\\n\u001b[39;00m\u001b[38;5;124m\"\u001b[39m \u001b[38;5;241m+\u001b[39m (line1 \u001b[38;5;241m+\u001b[39m line2\u001b[38;5;241m+\u001b[39mline3\u001b[38;5;241m+\u001b[39mline4\u001b[38;5;241m+\u001b[39mline5\u001b[38;5;241m+\u001b[39mline6\u001b[38;5;241m+\u001b[39m\u001b[43mline7_line8\u001b[49m) \u001b[38;5;241m+\u001b[39m \u001b[38;5;124m\"\u001b[39m\u001b[38;5;124m},\u001b[39m\u001b[38;5;124m\"\u001b[39m\n\u001b[1;32m     75\u001b[0m \u001b[38;5;28mprint\u001b[39m(total)\n\u001b[1;32m     76\u001b[0m \u001b[38;5;28;01mreturn\u001b[39;00m \u001b[38;5;28;01mNone\u001b[39;00m\n",
      "\u001b[0;31mNameError\u001b[0m: name 'line7_line8' is not defined"
     ]
    }
   ],
   "source": [
    "for i in range(25):\n",
    "    output(i)"
   ]
  },
  {
   "cell_type": "code",
   "execution_count": 81,
   "id": "2f6e67a3",
   "metadata": {},
   "outputs": [
    {
     "name": "stdout",
     "output_type": "stream",
     "text": [
      "Hello \n",
      " STechies\n"
     ]
    }
   ],
   "source": [
    "print('Hello \\n STechies')"
   ]
  },
  {
   "cell_type": "code",
   "execution_count": 78,
   "id": "08fd47ea",
   "metadata": {},
   "outputs": [
    {
     "data": {
      "text/plain": [
       "\"['US', 'Mexico'],\""
      ]
     },
     "execution_count": 78,
     "metadata": {},
     "output_type": "execute_result"
    }
   ],
   "source": [
    "#nearby: [\"US\", \"Mexico\"],\n",
    "nearby = \"['US', 'Mexico'],\"\n",
    "nearby"
   ]
  },
  {
   "cell_type": "code",
   "execution_count": 80,
   "id": "c17c6473",
   "metadata": {},
   "outputs": [
    {
     "data": {
      "text/plain": [
       "\"['A0', 'A2', 'A6'],\""
      ]
     },
     "execution_count": 80,
     "metadata": {},
     "output_type": "execute_result"
    }
   ],
   "source": [
    "tn = 1 #nearby should be: ['A0', 'A2', 'A6']\n",
    "nearby = \"['A\" + str(tn-1)+\"', 'A\" + str(tn+1)+\"', 'A\" + str(tn+5)+\"'],\" \n",
    "nearby"
   ]
  },
  {
   "cell_type": "code",
   "execution_count": 84,
   "id": "3dbc7b79",
   "metadata": {},
   "outputs": [
    {
     "data": {
      "text/plain": [
       "\"['A17', 'A19', 'A13', 'A23'],\""
      ]
     },
     "execution_count": 84,
     "metadata": {},
     "output_type": "execute_result"
    }
   ],
   "source": [
    "tn = 18 #nearby should be: ['A0', 'A2', 'A6']\n",
    "nearby = \"['A\" + str(tn-1)+\"', 'A\" + str(tn+1)+\"', 'A\" + str(tn-5)+\"', 'A\" + str(tn+5)+\"'],\" \n",
    "nearby"
   ]
  },
  {
   "cell_type": "code",
   "execution_count": null,
   "id": "c3979439",
   "metadata": {},
   "outputs": [],
   "source": []
  }
 ],
 "metadata": {
  "kernelspec": {
   "display_name": "Python 3 (ipykernel)",
   "language": "python",
   "name": "python3"
  },
  "language_info": {
   "codemirror_mode": {
    "name": "ipython",
    "version": 3
   },
   "file_extension": ".py",
   "mimetype": "text/x-python",
   "name": "python",
   "nbconvert_exporter": "python",
   "pygments_lexer": "ipython3",
   "version": "3.9.12"
  }
 },
 "nbformat": 4,
 "nbformat_minor": 5
}
