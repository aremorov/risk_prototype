{
 "cells": [
  {
   "cell_type": "code",
   "execution_count": 37,
   "id": "29f2121a",
   "metadata": {},
   "outputs": [],
   "source": [
    "import numpy as np"
   ]
  },
  {
   "cell_type": "markdown",
   "id": "2e8599f1",
   "metadata": {},
   "source": [
    "coords: 100x100\n",
    "5 in x direction\n",
    "5 in y direction, so 25 total\n"
   ]
  },
  {
   "cell_type": "code",
   "execution_count": 38,
   "id": "bcb410cc",
   "metadata": {},
   "outputs": [
    {
     "data": {
      "text/plain": [
       "'\\nshape: \"M 0,0 100,0 100,100 0,100 Z\",\\nterritory: \"A1\",\\nfillColor: \"red\",\\nxposition: 20,\\nyposition: 20,\\npopulation: 1,\\nnearby: [\"US\", \"Mexico\"],\\n'"
      ]
     },
     "execution_count": 38,
     "metadata": {},
     "output_type": "execute_result"
    }
   ],
   "source": [
    "#output format:\n",
    "\"\"\"\n",
    "shape: \"M 0,0 100,0 100,100 0,100 Z\",\n",
    "territory: \"A1\",\n",
    "fillColor: \"red\",\n",
    "xposition: 20,\n",
    "yposition: 20,\n",
    "population: 1,\n",
    "nearby: [\"US\", \"Mexico\"],\n",
    "\"\"\""
   ]
  },
  {
   "cell_type": "code",
   "execution_count": 53,
   "id": "741f8cef",
   "metadata": {},
   "outputs": [
    {
     "data": {
      "text/plain": [
       "3"
      ]
     },
     "execution_count": 53,
     "metadata": {},
     "output_type": "execute_result"
    }
   ],
   "source": [
    "np.random.randint(1,4)"
   ]
  },
  {
   "cell_type": "code",
   "execution_count": 11,
   "id": "fa5e04c3",
   "metadata": {},
   "outputs": [],
   "source": [
    "shape: \"M 100,0 200,0 200,100 100,100 Z\" #shape for tn = 1"
   ]
  },
  {
   "cell_type": "code",
   "execution_count": 106,
   "id": "47777095",
   "metadata": {},
   "outputs": [],
   "source": [
    "territory = 0 #territory number\n",
    "def output(tn):\n",
    "    country_list = [\"A\", \"A\", \"A\"]\n",
    "    color_list = [\"red\", \"blue\", \"green\"]\n",
    "\n",
    "    choice = np.random.randint(0,3) #randomly choose which color, country\n",
    "\n",
    "    country = country_list[choice]\n",
    "    color = color_list[choice]\n",
    "\n",
    "    xi = tn % 5\n",
    "    yi = tn // 5\n",
    "\n",
    "    #LINE 1\n",
    "    #position of top left coord\n",
    "    xp = xi * 100\n",
    "    yp = yi * 100\n",
    "    shape = \"M \"+str(xp)+\",\"+str(yp)\n",
    "    shape+=\" \"+str(xp+100)+\",\"+str(yp)\n",
    "    shape+=\" \"+str(xp+100)+\",\"+str(yp+100)\n",
    "    shape+=\" \"+str(xp)+\",\"+str(yp+100)+\" Z\"\n",
    "    shape\n",
    "    line1 = \"shape: \" + \"'\" + shape + \"',\\n    \"\n",
    "\n",
    "    #LINE 2\n",
    "    territory = country + str(tn)\n",
    "    line2 = \"territory: \" + \"'\" + territory + \"',\\n    \"\n",
    "\n",
    "    #LINE 3\n",
    "    line3 = \"fillColor: \" + \"'\"+color + \"',\\n    \"\n",
    "\n",
    "    #LINE 4\n",
    "    line4 = \"xposition: \" + str(xp+20) + \",\\n    \"\n",
    "\n",
    "    #LINE 5\n",
    "    line5 = \"yposition: \" + str(yp+20) + \",\\n    \"\n",
    "\n",
    "    #LINE 6\n",
    "    population = np.random.randint(1, 10)\n",
    "    line6 = \"population: \" + str(population) + \",\\n    \"\n",
    "\n",
    "    #LINE 7, tricky...\n",
    "    #nearby: [\"US\", \"Mexico\"],\n",
    "    #corners:\n",
    "    if(tn == 0):\n",
    "        nearby = \"['A1', 'A5'],\"\n",
    "    if(tn == 4):\n",
    "        nearby = \"['A3', 'A9'],\"\n",
    "    if(tn == 20):\n",
    "        nearby = \"['A15', 'A21'],\"\n",
    "    if(tn == 24):\n",
    "        nearby = \"['A19', 'A23'],\"\n",
    "    #edges\n",
    "    if(tn !=0 and tn!= 4 and tn!= 20 and tn!= 24):\n",
    "        if(yi == 0):\n",
    "            nearby = \"['A\" + str(tn-1)+\"', 'A\" + str(tn+1)+\"', 'A\" + str(tn+5)+\"'],\" \n",
    "        if(yi == 4):\n",
    "            nearby = \"['A\" + str(tn-1)+\"', 'A\" + str(tn+1)+\"', 'A\" + str(tn-5)+\"'],\" \n",
    "        if(xi == 0):\n",
    "            nearby = \"['A\" + str(tn-5)+\"', 'A\" + str(tn+5)+\"', 'A\" + str(tn+1)+\"'],\" \n",
    "        if(xi == 4):\n",
    "            nearby = \"['A\" + str(tn-5)+\"', 'A\" + str(tn+5)+\"', 'A\" + str(tn-1)+\"'],\"\n",
    "\n",
    "    if(xi != 0 and xi != 4 and yi != 0 and yi != 4):\n",
    "        nearby = \"['A\" + str(tn-1)+\"', 'A\" + str(tn+1)+\"', 'A\" + str(tn-5)+\"', 'A\" + str(tn+5)+\"'],\\n\" \n",
    "\n",
    "    line7 = \"nearby: \" + nearby\n",
    "    total = \"{\\n\" + (line1 + line2+line3+line4+line5+line6+line7) + \"},\"\n",
    "    print(total)\n",
    "    return None"
   ]
  },
  {
   "cell_type": "code",
   "execution_count": 107,
   "id": "9a6f9dff",
   "metadata": {},
   "outputs": [
    {
     "name": "stdout",
     "output_type": "stream",
     "text": [
      "{\n",
      "shape: 'M 0,0 100,0 100,100 0,100 Z',\n",
      "    territory: 'A0',\n",
      "    fillColor: 'red',\n",
      "    xposition: 20,\n",
      "    yposition: 20,\n",
      "    population: 7,\n",
      "    nearby: ['A1', 'A5'],}\n"
     ]
    }
   ],
   "source": [
    "output(0)"
   ]
  },
  {
   "cell_type": "code",
   "execution_count": 81,
   "id": "2f6e67a3",
   "metadata": {},
   "outputs": [
    {
     "name": "stdout",
     "output_type": "stream",
     "text": [
      "Hello \n",
      " STechies\n"
     ]
    }
   ],
   "source": [
    "print('Hello \\n STechies')"
   ]
  },
  {
   "cell_type": "code",
   "execution_count": 78,
   "id": "08fd47ea",
   "metadata": {},
   "outputs": [
    {
     "data": {
      "text/plain": [
       "\"['US', 'Mexico'],\""
      ]
     },
     "execution_count": 78,
     "metadata": {},
     "output_type": "execute_result"
    }
   ],
   "source": [
    "#nearby: [\"US\", \"Mexico\"],\n",
    "nearby = \"['US', 'Mexico'],\"\n",
    "nearby"
   ]
  },
  {
   "cell_type": "code",
   "execution_count": 80,
   "id": "c17c6473",
   "metadata": {},
   "outputs": [
    {
     "data": {
      "text/plain": [
       "\"['A0', 'A2', 'A6'],\""
      ]
     },
     "execution_count": 80,
     "metadata": {},
     "output_type": "execute_result"
    }
   ],
   "source": [
    "tn = 1 #nearby should be: ['A0', 'A2', 'A6']\n",
    "nearby = \"['A\" + str(tn-1)+\"', 'A\" + str(tn+1)+\"', 'A\" + str(tn+5)+\"'],\" \n",
    "nearby"
   ]
  },
  {
   "cell_type": "code",
   "execution_count": 84,
   "id": "3dbc7b79",
   "metadata": {},
   "outputs": [
    {
     "data": {
      "text/plain": [
       "\"['A17', 'A19', 'A13', 'A23'],\""
      ]
     },
     "execution_count": 84,
     "metadata": {},
     "output_type": "execute_result"
    }
   ],
   "source": [
    "tn = 18 #nearby should be: ['A0', 'A2', 'A6']\n",
    "nearby = \"['A\" + str(tn-1)+\"', 'A\" + str(tn+1)+\"', 'A\" + str(tn-5)+\"', 'A\" + str(tn+5)+\"'],\" \n",
    "nearby"
   ]
  },
  {
   "cell_type": "code",
   "execution_count": null,
   "id": "45638ed4",
   "metadata": {},
   "outputs": [],
   "source": []
  }
 ],
 "metadata": {
  "kernelspec": {
   "display_name": "Python 3 (ipykernel)",
   "language": "python",
   "name": "python3"
  },
  "language_info": {
   "codemirror_mode": {
    "name": "ipython",
    "version": 3
   },
   "file_extension": ".py",
   "mimetype": "text/x-python",
   "name": "python",
   "nbconvert_exporter": "python",
   "pygments_lexer": "ipython3",
   "version": "3.9.12"
  }
 },
 "nbformat": 4,
 "nbformat_minor": 5
}
