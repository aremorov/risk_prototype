{
  "cells": [
    {
      "cell_type": "code",
      "execution_count": 1,
      "id": "29f2121a",
      "metadata": {},
      "outputs": [],
      "source": [
        "import numpy as np"
      ]
    },
    {
      "cell_type": "markdown",
      "id": "2e8599f1",
      "metadata": {},
      "source": [
        "coords: 100x100\n",
        "5 in x direction\n",
        "5 in y direction, so 25 total\n"
      ]
    },
    {
      "cell_type": "code",
      "execution_count": 2,
      "id": "bcb410cc",
      "metadata": {},
      "outputs": [
        {
          "data": {
            "text/plain": [
              "'\\nshape: \"M 0,0 100,0 100,100 0,100 Z\",\\nterritory: \"A1\",\\nfillColor: \"red\",\\nxposition: 20,\\nyposition: 20,\\ntroop: \"air\"\\npopulation: 1,\\nnearby: [\"US\", \"Mexico\"],\\n'"
            ]
          },
          "execution_count": 2,
          "metadata": {},
          "output_type": "execute_result"
        }
      ],
      "source": [
        "#output format: add in troop type\n",
        "\"\"\"\n",
        "shape: \"M 0,0 100,0 100,100 0,100 Z\",\n",
        "territory: \"A1\",\n",
        "fillColor: \"red\",\n",
        "xposition: 20,\n",
        "yposition: 20,\n",
        "troop: \"air\"\n",
        "population: 1,\n",
        "nearby: [\"US\", \"Mexico\"],\n",
        "\"\"\""
      ]
    },
    {
      "cell_type": "code",
      "execution_count": 3,
      "id": "741f8cef",
      "metadata": {},
      "outputs": [
        {
          "data": {
            "text/plain": [
              "1"
            ]
          },
          "execution_count": 3,
          "metadata": {},
          "output_type": "execute_result"
        }
      ],
      "source": [
        "np.random.randint(1,4)"
      ]
    },
    {
      "cell_type": "code",
      "execution_count": 4,
      "id": "fa5e04c3",
      "metadata": {},
      "outputs": [],
      "source": [
        "shape: \"M 100,0 200,0 200,100 100,100 Z\" #shape for tn = 1"
      ]
    },
    {
      "cell_type": "code",
      "execution_count": 7,
      "id": "47777095",
      "metadata": {},
      "outputs": [],
      "source": [
        "territory = 0 #territory number\n",
        "def output(tn):\n",
        "    country_list = [\"A\", \"A\", \"A\"]\n",
        "    color_list = [\"red\", \"blue\", \"green\"]\n",
        "    troops = [\"air\", \"ranged\", \"melee\"]\n",
        "    terrains = [\"forest\", \"plains\", \"hills\"]\n",
        "\n",
        "    choice = np.random.randint(0,3) #randomly choose which color\n",
        "\n",
        "    country = country_list[choice] #always A, doesnt matter actually\n",
        "    color = color_list[choice]\n",
        "\n",
        "    xi = tn % 5\n",
        "    yi = tn // 5\n",
        "\n",
        "    #LINE 1\n",
        "    #position of top left coord\n",
        "    xp = xi * 100\n",
        "    yp = yi * 100\n",
        "    shape = \"M \"+str(xp)+\",\"+str(yp)\n",
        "    shape+=\" \"+str(xp+100)+\",\"+str(yp)\n",
        "    shape+=\" \"+str(xp+100)+\",\"+str(yp+100)\n",
        "    shape+=\" \"+str(xp)+\",\"+str(yp+100)+\" Z\"\n",
        "    shape\n",
        "    line1 = \"shape: \" + \"'\" + shape + \"',\\n    \"\n",
        "\n",
        "    #LINE 2\n",
        "    territory = country + str(tn)\n",
        "    line2 = \"territory: \" + \"'\" + territory + \"',\\n    \"\n",
        "\n",
        "    #LINE 3\n",
        "    line3 = \"fillColor: \" + \"'\"+color + \"',\\n    \"\n",
        "\n",
        "    #LINE 4\n",
        "    line4 = \"xposition: \" + str(xp+20) + \",\\n    \"\n",
        "\n",
        "    #LINE 5\n",
        "    line5 = \"yposition: \" + str(yp+20) + \",\\n    \"\n",
        "    \n",
        "    #LINE 6, troop type\n",
        "    troop_type = troops[np.random.randint(0,3)]\n",
        "    line6 = \"troop: '\" + troop_type + \"',\\n    \"\n",
        "    \n",
        "    \n",
        "    #LINE 7\n",
        "    population = np.random.randint(1, 10)\n",
        "    line7 = \"population: \" + str(population) + \",\\n    \"\n",
        "\n",
        "    #LINE 8, tricky...\n",
        "    #nearby: [\"US\", \"Mexico\"],\n",
        "    #corners:\n",
        "    if(tn == 0):\n",
        "        nearby = \"['A1', 'A5'],\"\n",
        "    if(tn == 4):\n",
        "        nearby = \"['A3', 'A9'],\"\n",
        "    if(tn == 20):\n",
        "        nearby = \"['A15', 'A21'],\"\n",
        "    if(tn == 24):\n",
        "        nearby = \"['A19', 'A23'],\"\n",
        "    #edges\n",
        "    if(tn !=0 and tn!= 4 and tn!= 20 and tn!= 24):\n",
        "        if(yi == 0):\n",
        "            nearby = \"['A\" + str(tn-1)+\"', 'A\" + str(tn+1)+\"', 'A\" + str(tn+5)+\"'],\" \n",
        "        if(yi == 4):\n",
        "            nearby = \"['A\" + str(tn-1)+\"', 'A\" + str(tn+1)+\"', 'A\" + str(tn-5)+\"'],\" \n",
        "        if(xi == 0):\n",
        "            nearby = \"['A\" + str(tn-5)+\"', 'A\" + str(tn+5)+\"', 'A\" + str(tn+1)+\"'],\" \n",
        "        if(xi == 4):\n",
        "            nearby = \"['A\" + str(tn-5)+\"', 'A\" + str(tn+5)+\"', 'A\" + str(tn-1)+\"'],\"\n",
        "\n",
        "    if(xi != 0 and xi != 4 and yi != 0 and yi != 4):\n",
        "        nearby = \"['A\" + str(tn-1)+\"', 'A\" + str(tn+1)+\"', 'A\" + str(tn-5)+\"', 'A\" + str(tn+5)+\"'],\\n\" \n",
        "\n",
        "    line8 = \"nearby: \" + nearby\n",
        "    \n",
        "    terrain = terrains[np.random.randint(0,3)]\n",
        "    \n",
        "    line9 = \"terrain: '\" + terrain + \"'\"\n",
        "    \n",
        "    total = \"{\\n\" + (line1 + line2+line3+line4+line5+line6+line7+line8 + line9) + \"},\"\n",
        "    print(total)\n",
        "    return None"
      ]
    },
    {
      "cell_type": "code",
      "execution_count": 8,
      "id": "73aac185",
      "metadata": {},
      "outputs": [
        {
          "name": "stdout",
          "output_type": "stream",
          "text": [
            "{\n",
            "shape: 'M 0,0 100,0 100,100 0,100 Z',\n",
            "    territory: 'A0',\n",
            "    fillColor: 'blue',\n",
            "    xposition: 20,\n",
            "    yposition: 20,\n",
            "    troop: 'air',\n",
            "    population: 1,\n",
            "    nearby: ['A1', 'A5'],terrain: 'forest'},\n",
            "{\n",
            "shape: 'M 100,0 200,0 200,100 100,100 Z',\n",
            "    territory: 'A1',\n",
            "    fillColor: 'red',\n",
            "    xposition: 120,\n",
            "    yposition: 20,\n",
            "    troop: 'melee',\n",
            "    population: 1,\n",
            "    nearby: ['A0', 'A2', 'A6'],terrain: 'forest'},\n",
            "{\n",
            "shape: 'M 200,0 300,0 300,100 200,100 Z',\n",
            "    territory: 'A2',\n",
            "    fillColor: 'blue',\n",
            "    xposition: 220,\n",
            "    yposition: 20,\n",
            "    troop: 'melee',\n",
            "    population: 2,\n",
            "    nearby: ['A1', 'A3', 'A7'],terrain: 'forest'},\n",
            "{\n",
            "shape: 'M 300,0 400,0 400,100 300,100 Z',\n",
            "    territory: 'A3',\n",
            "    fillColor: 'red',\n",
            "    xposition: 320,\n",
            "    yposition: 20,\n",
            "    troop: 'air',\n",
            "    population: 2,\n",
            "    nearby: ['A2', 'A4', 'A8'],terrain: 'hills'},\n",
            "{\n",
            "shape: 'M 400,0 500,0 500,100 400,100 Z',\n",
            "    territory: 'A4',\n",
            "    fillColor: 'green',\n",
            "    xposition: 420,\n",
            "    yposition: 20,\n",
            "    troop: 'ranged',\n",
            "    population: 1,\n",
            "    nearby: ['A3', 'A9'],terrain: 'hills'},\n",
            "{\n",
            "shape: 'M 0,100 100,100 100,200 0,200 Z',\n",
            "    territory: 'A5',\n",
            "    fillColor: 'blue',\n",
            "    xposition: 20,\n",
            "    yposition: 120,\n",
            "    troop: 'ranged',\n",
            "    population: 3,\n",
            "    nearby: ['A0', 'A10', 'A6'],terrain: 'plains'},\n",
            "{\n",
            "shape: 'M 100,100 200,100 200,200 100,200 Z',\n",
            "    territory: 'A6',\n",
            "    fillColor: 'blue',\n",
            "    xposition: 120,\n",
            "    yposition: 120,\n",
            "    troop: 'melee',\n",
            "    population: 1,\n",
            "    nearby: ['A5', 'A7', 'A1', 'A11'],\n",
            "terrain: 'hills'},\n",
            "{\n",
            "shape: 'M 200,100 300,100 300,200 200,200 Z',\n",
            "    territory: 'A7',\n",
            "    fillColor: 'red',\n",
            "    xposition: 220,\n",
            "    yposition: 120,\n",
            "    troop: 'melee',\n",
            "    population: 6,\n",
            "    nearby: ['A6', 'A8', 'A2', 'A12'],\n",
            "terrain: 'forest'},\n",
            "{\n",
            "shape: 'M 300,100 400,100 400,200 300,200 Z',\n",
            "    territory: 'A8',\n",
            "    fillColor: 'blue',\n",
            "    xposition: 320,\n",
            "    yposition: 120,\n",
            "    troop: 'melee',\n",
            "    population: 6,\n",
            "    nearby: ['A7', 'A9', 'A3', 'A13'],\n",
            "terrain: 'hills'},\n",
            "{\n",
            "shape: 'M 400,100 500,100 500,200 400,200 Z',\n",
            "    territory: 'A9',\n",
            "    fillColor: 'green',\n",
            "    xposition: 420,\n",
            "    yposition: 120,\n",
            "    troop: 'air',\n",
            "    population: 3,\n",
            "    nearby: ['A4', 'A14', 'A8'],terrain: 'hills'},\n",
            "{\n",
            "shape: 'M 0,200 100,200 100,300 0,300 Z',\n",
            "    territory: 'A10',\n",
            "    fillColor: 'blue',\n",
            "    xposition: 20,\n",
            "    yposition: 220,\n",
            "    troop: 'ranged',\n",
            "    population: 8,\n",
            "    nearby: ['A5', 'A15', 'A11'],terrain: 'hills'},\n",
            "{\n",
            "shape: 'M 100,200 200,200 200,300 100,300 Z',\n",
            "    territory: 'A11',\n",
            "    fillColor: 'blue',\n",
            "    xposition: 120,\n",
            "    yposition: 220,\n",
            "    troop: 'air',\n",
            "    population: 8,\n",
            "    nearby: ['A10', 'A12', 'A6', 'A16'],\n",
            "terrain: 'hills'},\n",
            "{\n",
            "shape: 'M 200,200 300,200 300,300 200,300 Z',\n",
            "    territory: 'A12',\n",
            "    fillColor: 'blue',\n",
            "    xposition: 220,\n",
            "    yposition: 220,\n",
            "    troop: 'melee',\n",
            "    population: 3,\n",
            "    nearby: ['A11', 'A13', 'A7', 'A17'],\n",
            "terrain: 'forest'},\n",
            "{\n",
            "shape: 'M 300,200 400,200 400,300 300,300 Z',\n",
            "    territory: 'A13',\n",
            "    fillColor: 'green',\n",
            "    xposition: 320,\n",
            "    yposition: 220,\n",
            "    troop: 'air',\n",
            "    population: 6,\n",
            "    nearby: ['A12', 'A14', 'A8', 'A18'],\n",
            "terrain: 'plains'},\n",
            "{\n",
            "shape: 'M 400,200 500,200 500,300 400,300 Z',\n",
            "    territory: 'A14',\n",
            "    fillColor: 'red',\n",
            "    xposition: 420,\n",
            "    yposition: 220,\n",
            "    troop: 'melee',\n",
            "    population: 5,\n",
            "    nearby: ['A9', 'A19', 'A13'],terrain: 'hills'},\n",
            "{\n",
            "shape: 'M 0,300 100,300 100,400 0,400 Z',\n",
            "    territory: 'A15',\n",
            "    fillColor: 'green',\n",
            "    xposition: 20,\n",
            "    yposition: 320,\n",
            "    troop: 'ranged',\n",
            "    population: 4,\n",
            "    nearby: ['A10', 'A20', 'A16'],terrain: 'forest'},\n",
            "{\n",
            "shape: 'M 100,300 200,300 200,400 100,400 Z',\n",
            "    territory: 'A16',\n",
            "    fillColor: 'green',\n",
            "    xposition: 120,\n",
            "    yposition: 320,\n",
            "    troop: 'ranged',\n",
            "    population: 8,\n",
            "    nearby: ['A15', 'A17', 'A11', 'A21'],\n",
            "terrain: 'forest'},\n",
            "{\n",
            "shape: 'M 200,300 300,300 300,400 200,400 Z',\n",
            "    territory: 'A17',\n",
            "    fillColor: 'blue',\n",
            "    xposition: 220,\n",
            "    yposition: 320,\n",
            "    troop: 'air',\n",
            "    population: 8,\n",
            "    nearby: ['A16', 'A18', 'A12', 'A22'],\n",
            "terrain: 'forest'},\n",
            "{\n",
            "shape: 'M 300,300 400,300 400,400 300,400 Z',\n",
            "    territory: 'A18',\n",
            "    fillColor: 'red',\n",
            "    xposition: 320,\n",
            "    yposition: 320,\n",
            "    troop: 'ranged',\n",
            "    population: 9,\n",
            "    nearby: ['A17', 'A19', 'A13', 'A23'],\n",
            "terrain: 'forest'},\n",
            "{\n",
            "shape: 'M 400,300 500,300 500,400 400,400 Z',\n",
            "    territory: 'A19',\n",
            "    fillColor: 'blue',\n",
            "    xposition: 420,\n",
            "    yposition: 320,\n",
            "    troop: 'air',\n",
            "    population: 7,\n",
            "    nearby: ['A14', 'A24', 'A18'],terrain: 'forest'},\n",
            "{\n",
            "shape: 'M 0,400 100,400 100,500 0,500 Z',\n",
            "    territory: 'A20',\n",
            "    fillColor: 'green',\n",
            "    xposition: 20,\n",
            "    yposition: 420,\n",
            "    troop: 'air',\n",
            "    population: 1,\n",
            "    nearby: ['A15', 'A21'],terrain: 'plains'},\n",
            "{\n",
            "shape: 'M 100,400 200,400 200,500 100,500 Z',\n",
            "    territory: 'A21',\n",
            "    fillColor: 'blue',\n",
            "    xposition: 120,\n",
            "    yposition: 420,\n",
            "    troop: 'ranged',\n",
            "    population: 5,\n",
            "    nearby: ['A20', 'A22', 'A16'],terrain: 'forest'},\n",
            "{\n",
            "shape: 'M 200,400 300,400 300,500 200,500 Z',\n",
            "    territory: 'A22',\n",
            "    fillColor: 'green',\n",
            "    xposition: 220,\n",
            "    yposition: 420,\n",
            "    troop: 'melee',\n",
            "    population: 2,\n",
            "    nearby: ['A21', 'A23', 'A17'],terrain: 'forest'},\n",
            "{\n",
            "shape: 'M 300,400 400,400 400,500 300,500 Z',\n",
            "    territory: 'A23',\n",
            "    fillColor: 'blue',\n",
            "    xposition: 320,\n",
            "    yposition: 420,\n",
            "    troop: 'air',\n",
            "    population: 6,\n",
            "    nearby: ['A22', 'A24', 'A18'],terrain: 'hills'},\n",
            "{\n",
            "shape: 'M 400,400 500,400 500,500 400,500 Z',\n",
            "    territory: 'A24',\n",
            "    fillColor: 'blue',\n",
            "    xposition: 420,\n",
            "    yposition: 420,\n",
            "    troop: 'melee',\n",
            "    population: 3,\n",
            "    nearby: ['A19', 'A23'],terrain: 'forest'},\n"
          ]
        }
      ],
      "source": [
        "for i in range(25):\n",
        "    output(i)"
      ]
    },
    {
      "cell_type": "code",
      "execution_count": 81,
      "id": "2f6e67a3",
      "metadata": {},
      "outputs": [
        {
          "name": "stdout",
          "output_type": "stream",
          "text": [
            "Hello \n",
            " STechies\n"
          ]
        }
      ],
      "source": []
    },
    {
      "cell_type": "code",
      "execution_count": 78,
      "id": "08fd47ea",
      "metadata": {},
      "outputs": [
        {
          "data": {
            "text/plain": [
              "\"['US', 'Mexico'],\""
            ]
          },
          "execution_count": 78,
          "metadata": {},
          "output_type": "execute_result"
        }
      ],
      "source": [
        "#nearby: [\"US\", \"Mexico\"],\n",
        "nearby = \"['US', 'Mexico'],\"\n",
        "nearby"
      ]
    },
    {
      "cell_type": "code",
      "execution_count": 80,
      "id": "c17c6473",
      "metadata": {},
      "outputs": [
        {
          "data": {
            "text/plain": [
              "\"['A0', 'A2', 'A6'],\""
            ]
          },
          "execution_count": 80,
          "metadata": {},
          "output_type": "execute_result"
        }
      ],
      "source": [
        "tn = 1 #nearby should be: ['A0', 'A2', 'A6']\n",
        "nearby = \"['A\" + str(tn-1)+\"', 'A\" + str(tn+1)+\"', 'A\" + str(tn+5)+\"'],\" \n",
        "nearby"
      ]
    },
    {
      "cell_type": "code",
      "execution_count": 84,
      "id": "3dbc7b79",
      "metadata": {},
      "outputs": [
        {
          "data": {
            "text/plain": [
              "\"['A17', 'A19', 'A13', 'A23'],\""
            ]
          },
          "execution_count": 84,
          "metadata": {},
          "output_type": "execute_result"
        }
      ],
      "source": [
        "tn = 18 #nearby should be: ['A0', 'A2', 'A6']\n",
        "nearby = \"['A\" + str(tn-1)+\"', 'A\" + str(tn+1)+\"', 'A\" + str(tn-5)+\"', 'A\" + str(tn+5)+\"'],\" \n",
        "nearby"
      ]
    },
    {
      "cell_type": "code",
      "execution_count": null,
      "id": "c3979439",
      "metadata": {},
      "outputs": [],
      "source": []
    }
  ],
  "metadata": {
    "kernelspec": {
      "display_name": "Python 3 (ipykernel)",
      "language": "python",
      "name": "python3"
    },
    "language_info": {
      "codemirror_mode": {
        "name": "ipython",
        "version": 3
      },
      "file_extension": ".py",
      "mimetype": "text/x-python",
      "name": "python",
      "nbconvert_exporter": "python",
      "pygments_lexer": "ipython3",
      "version": "3.9.12"
    }
  },
  "nbformat": 4,
  "nbformat_minor": 5
}
